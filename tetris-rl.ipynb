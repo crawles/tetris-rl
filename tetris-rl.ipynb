{
 "cells": [
  {
   "cell_type": "code",
   "execution_count": 71,
   "metadata": {
    "collapsed": true
   },
   "outputs": [],
   "source": [
    "%matplotlib inline\n",
    "from matplotlib import pyplot as plt\n",
    "import pandas as pd"
   ]
  },
  {
   "cell_type": "markdown",
   "metadata": {},
   "source": [
    "## Build loss function"
   ]
  },
  {
   "cell_type": "code",
   "execution_count": 78,
   "metadata": {
    "collapsed": false
   },
   "outputs": [
    {
     "data": {
      "text/plain": [
       "1"
      ]
     },
     "execution_count": 78,
     "metadata": {},
     "output_type": "execute_result"
    }
   ],
   "source": [
    "int(action==2)"
   ]
  },
  {
   "cell_type": "code",
   "execution_count": 90,
   "metadata": {
    "collapsed": true
   },
   "outputs": [],
   "source": [
    "def weight_variable(shape):\n",
    "    initial = tf.truncated_normal(shape, stddev=0.1)\n",
    "    return tf.Variable(initial)\n",
    "\n",
    "def bias_variable(shape):\n",
    "    initial = tf.constant(0.1, shape=shape)\n",
    "    return tf.Variable(initial)"
   ]
  },
  {
   "cell_type": "code",
   "execution_count": null,
   "metadata": {
    "collapsed": false
   },
   "outputs": [
    {
     "name": "stdout",
     "output_type": "stream",
     "text": [
      "50 1650.7893604\n",
      "100 1310.44357428\n",
      "150 1418.87603851\n",
      "200 1185.89940513\n",
      "250 1325.15335831\n",
      "300 1146.29809384\n",
      "350 1060.66277094\n",
      "400 963.196919688\n",
      "450 1022.74609178\n",
      "500 1067.34627542\n",
      "550 858.084313888\n",
      "600 878.519602243\n",
      "650 857.329292135\n",
      "700 827.237706747\n",
      "750 861.74989708\n",
      "800 826.783127801\n",
      "850 737.468891539\n",
      "900 813.284097262\n",
      "950 862.570167448\n",
      "1000 684.143675812\n",
      "1050 726.521908315\n",
      "1100 741.725020824\n",
      "1150 708.217619875\n",
      "1200 866.206162878\n",
      "1250 808.989572501\n",
      "1300 696.638312465\n",
      "1350 654.784401045\n",
      "1400 664.192146248\n",
      "1450 616.274297615\n",
      "1500 747.509415136\n",
      "1550 732.02056987\n",
      "1600 649.113250299\n",
      "1650 751.699364247\n",
      "1700 757.777520477\n",
      "1750 674.706504947\n"
     ]
    }
   ],
   "source": [
    "import json\n",
    "import os\n",
    "import sys\n",
    "\n",
    "import numpy as np\n",
    "import tensorflow as tf\n",
    "\n",
    "import tetris_api\n",
    "\n",
    "ACTIONS = {3: 'up', 2: 'right', 1: 'left', 0: 'down'}\n",
    "\n",
    "if sys.version_info.major == 2:\n",
    "    range = xrange\n",
    "\n",
    "# tetris\n",
    "num_cols = 4\n",
    "num_rows = 16\n",
    "\n",
    "# learning params\n",
    "gamma = 0.9\n",
    "learning_rate = 1e-2\n",
    "max_ep = 99999 # how many steps to take\n",
    "num_hidden = 25\n",
    "update_frequency = 50 # after how many games to update model\n",
    "\n",
    "# create environment\n",
    "env = tetris_api.PyTetrisEnv()\n",
    "tf.reset_default_graph()  # clear the Tensorflow graph.\n",
    "\n",
    "# TODO build graph here\n",
    "# build nodes\n",
    "sess = tf.InteractiveSession()\n",
    "x = tf.placeholder(tf.float32, shape=[None, num_cols*num_rows])\n",
    "actions = tf.placeholder(tf.int32, shape=[None])\n",
    "rewards = tf.placeholder(tf.float32, shape=[None])\n",
    "\n",
    "# 1st layer \n",
    "W1 = weight_variable([num_cols*num_rows,num_hidden])\n",
    "b1 = bias_variable([num_hidden])\n",
    "h1 = tf.nn.relu(tf.matmul(x, W1) + b1)\n",
    " \n",
    "# output \n",
    "W2 = weight_variable([num_hidden,4])\n",
    "b2 = bias_variable([4])\n",
    "y = tf.matmul(h1,W2) + b2\n",
    "output = tf.nn.softmax(y)\n",
    "\n",
    "# get prob for chosen action\n",
    "# first need to figure out indices of all of the chose actions\n",
    "# from the flattened array\n",
    "action_indices = (tf.range(0, tf.shape(y)[0]) * tf.shape(y)[1]) + actions\n",
    "prob_for_picked_actions = tf.gather(tf.reshape(y, [-1]), action_indices)\n",
    "\n",
    "# loss function\n",
    "cross_entropy = -tf.reduce_mean(tf.log(prob_for_picked_actions) * rewards)\n",
    "train_step = tf.train.AdamOptimizer(learning_rate).minimize(cross_entropy)\n",
    "\n",
    "sess.run(tf.global_variables_initializer())\n",
    "\n",
    "\n",
    "import tf_rl_utils\n",
    "env = tetris_api.PyTetrisEnv()\n",
    "all_ep_history = []\n",
    "game_num = 0\n",
    "game_rewards = []\n",
    "action_history = []\n",
    "while True:\n",
    "    s_2D, _, _, _ = env.reset(number_of_rows=num_rows, number_of_cols=num_cols)\n",
    "    s = tf_rl_utils.prepro(s_2D)\n",
    "    prior_state = np.zeros_like(s)\n",
    "    ep_history = []\n",
    "    for j in range(max_ep):\n",
    "        # determine action\n",
    "        del_state = s - prior_state \n",
    "        a_dist = sess.run(output, feed_dict={x: [del_state]})\n",
    "        picked_action_prob = np.random.choice(a_dist[0], p=a_dist[0])\n",
    "        action = np.argmax(a_dist == picked_action_prob)\n",
    "        action_history.append(action)\n",
    "        \n",
    "        # take action\n",
    "        prior_state = s\n",
    "        s_2D, r, done, _ = env.step(ACTIONS[action]) \n",
    "        s = tf_rl_utils.prepro(s_2D)\n",
    "        \n",
    "        ep_history.append(np.array([del_state, action, r]))\n",
    "        if done:\n",
    "            # game_states = []\n",
    "            ep_history = np.array(ep_history)\n",
    "            ep_history[:, 2] = tf_rl_utils.discount_rewards(ep_history[:, 2], gamma=gamma)\n",
    "            all_ep_history.append(ep_history)\n",
    "            game_rewards.append(np.sum(ep_history[:, 2]))\n",
    "            ep_history = []\n",
    "\n",
    "            its_time_to_update_weights = ((game_num % update_frequency) == 0 and (game_num != 0))\n",
    "            if its_time_to_update_weights:\n",
    "                print game_num, np.mean(game_rewards[game_num-10:game_num])\n",
    "                all_ep_history = np.vstack(all_ep_history)\n",
    "                feed_dict = {rewards: all_ep_history[:, 2],\n",
    "                             actions: all_ep_history[:, 1],\n",
    "                             x: np.vstack(all_ep_history[:, 0])}\n",
    "                sess.run(train_step, feed_dict=feed_dict)\n",
    "                all_ep_history = []\n",
    "            break\n",
    "    game_num += 1"
   ]
  },
  {
   "cell_type": "code",
   "execution_count": 88,
   "metadata": {
    "collapsed": false
   },
   "outputs": [],
   "source": [
    "\n",
    "\n",
    "\n",
    "# learning params\n",
    "gamma = 0.9\n",
    "learning_rate = 1e-2\n",
    "max_ep = 99999 # how many steps to take\n",
    "num_hidden = 25\n",
    "update_frequency = 50 # after how many games to update model\n",
    "\n",
    "# create environment\n",
    "env = tetris_api.PyTetrisEnv()\n",
    "tf.reset_default_graph()  # clear the Tensorflow graph.\n",
    "\n",
    "# TODO build graph here\n",
    "# build nodes\n",
    "sess = tf.InteractiveSession()\n",
    "x = tf.placeholder(tf.float32, shape=[None, num_cols*num_rows])\n",
    "actions = tf.placeholder(tf.int32, shape=[None])\n",
    "rewards = tf.placeholder(tf.float32, shape=[None])\n",
    "\n",
    "# 1st layer \n",
    "W1 = weight_variable([num_cols*num_rows,num_hidden])\n",
    "b1 = bias_variable([num_hidden])\n",
    "h1 = tf.matmul(x, W1) + b1\n",
    "\n",
    "\n",
    "\n",
    "\n",
    "\n"
   ]
  },
  {
   "cell_type": "code",
   "execution_count": 83,
   "metadata": {
    "collapsed": false
   },
   "outputs": [
    {
     "data": {
      "image/png": "[encoded data removed]",
      "text/plain": [
       "<matplotlib.figure.Figure at 0x13047e390>"
      ]
     },
     "metadata": {},
     "output_type": "display_data"
    }
   ],
   "source": [
    "fig,(ax0,ax1,ax2) = plt.subplots(3,1, figsize=(16,16))\n",
    "ax0.hist(action_history)\n",
    "\n",
    "# game rewards\n",
    "# ax1.plot(game_rewards)\n",
    "game_rewards_s = pd.Series(game_rewards)\n",
    "rolling_game_rewards = game_rewards_s.rolling(50).mean().fillna(game_rewards_s.mean())\n",
    "ax1.plot(rolling_game_rewards)\n",
    "\n",
    "# weights\n",
    "_W = sess.run(W)\n",
    "c = ax2.imshow(_W.T)\n",
    "# c.colorbar()"
   ]
  },
  {
   "cell_type": "code",
   "execution_count": 81,
   "metadata": {
    "collapsed": false
   },
   "outputs": [
    {
     "name": "stdout",
     "output_type": "stream",
     "text": [
      "-1.0\n"
     ]
    }
   ],
   "source": [
    "s, _, _, _ = env.reset(number_of_rows=num_rows, number_of_cols=num_cols)\n",
    "s = tf_rl_utils.prepro(s)\n",
    "prior_state = np.zeros_like(s)\n",
    "ep_history = []\n",
    "for j in range(max_ep):\n",
    "    # determine action\n",
    "    del_state = s - prior_state \n",
    "    a_dist = sess.run(output, feed_dict={x: [del_state]})\n",
    "    picked_action_prob = np.random.choice(a_dist[0], p=a_dist[0])\n",
    "    action = np.argmax(a_dist == picked_action_prob)\n",
    "\n",
    "    # take action\n",
    "    prior_state = s\n",
    "    s, r, done, _ = env.step(ACTIONS[action]) \n",
    "    s = tf_rl_utils.prepro(s)\n",
    "\n",
    "    ep_history.append(np.array([del_state, action, r]))\n",
    "    if done:\n",
    "        break\n",
    "\n",
    "ep_history = np.array(ep_history)\n",
    "print ep_history[:,2].sum()"
   ]
  },
  {
   "cell_type": "code",
   "execution_count": 58,
   "metadata": {
    "collapsed": false
   },
   "outputs": [
    {
     "data": {
      "text/plain": [
       "0        189.996515\n",
       "1        389.506989\n",
       "2        589.676538\n",
       "3        389.999891\n",
       "4        189.999659\n",
       "5        389.246293\n",
       "6        189.995698\n",
       "7         -9.999960\n",
       "8        189.999116\n",
       "9        989.787194\n",
       "10       589.985570\n",
       "11       789.389682\n",
       "12       789.556291\n",
       "13       189.951450\n",
       "14        -9.999997\n",
       "15        -9.999945\n",
       "16       189.984765\n",
       "17       189.998149\n",
       "18       189.998149\n",
       "19       389.945674\n",
       "20       789.997029\n",
       "21        -9.999960\n",
       "22       789.391349\n",
       "23        -9.999974\n",
       "24       -10.000000\n",
       "25        -9.999981\n",
       "26       989.787433\n",
       "27       589.163421\n",
       "28       389.999111\n",
       "29       789.999354\n",
       "            ...    \n",
       "10753    789.999750\n",
       "10754    189.990004\n",
       "10755    -10.000000\n",
       "10756    789.999999\n",
       "10757    389.999998\n",
       "10758    190.000000\n",
       "10759    389.998148\n",
       "10760    590.000000\n",
       "10761    189.999980\n",
       "10762    390.000000\n",
       "10763    190.000000\n",
       "10764    -10.000000\n",
       "10765    590.000000\n",
       "10766    189.997942\n",
       "10767    390.000000\n",
       "10768    -10.000000\n",
       "10769    -10.000000\n",
       "10770    389.999948\n",
       "10771    190.000000\n",
       "10772    189.999999\n",
       "10773    389.998333\n",
       "10774    189.995697\n",
       "10775    790.000000\n",
       "10776    390.000000\n",
       "10777    190.000000\n",
       "10778    -10.000000\n",
       "10779    789.999921\n",
       "10780    190.000000\n",
       "10781    189.991903\n",
       "10782    190.000000\n",
       "Length: 10783, dtype: float64"
      ]
     },
     "execution_count": 58,
     "metadata": {},
     "output_type": "execute_result"
    }
   ],
   "source": [
    "s"
   ]
  },
  {
   "cell_type": "code",
   "execution_count": 55,
   "metadata": {
    "collapsed": false
   },
   "outputs": [],
   "source": [
    "\n",
    "s, r, done, _ = env.step(ACTIONS[0]) \n",
    "import IPython.terminal.ipapp"
   ]
  },
  {
   "cell_type": "code",
   "execution_count": 205,
   "metadata": {
    "collapsed": false
   },
   "outputs": [
    {
     "data": {
      "text/plain": [
       "(8228, 96)"
      ]
     },
     "execution_count": 205,
     "metadata": {},
     "output_type": "execute_result"
    }
   ],
   "source": [
    "all_ep_history[:, 0].shape\n",
    "np.vstack(all_ep_history[:, 0]).shape"
   ]
  },
  {
   "cell_type": "code",
   "execution_count": 202,
   "metadata": {
    "collapsed": false
   },
   "outputs": [
    {
     "data": {
      "text/plain": [
       "(8228, 3)"
      ]
     },
     "execution_count": 202,
     "metadata": {},
     "output_type": "execute_result"
    }
   ],
   "source": [
    "all_ep_history = np.vstack(all_ep_history)\n",
    "all_ep_history.shape"
   ]
  },
  {
   "cell_type": "code",
   "execution_count": 163,
   "metadata": {
    "collapsed": false
   },
   "outputs": [
    {
     "data": {
      "text/plain": [
       "array([ 0.,  0.,  1.,  0.,  0.,  0.,  0.,  1.,  1.,  1.,  0.,  0.,  0.,\n",
       "        0.,  0.,  0.,  0.,  0.,  0.,  0.,  0.,  0.,  0.,  0.,  0.,  0.,\n",
       "        0.,  0.,  0.,  0.,  0.,  0.,  0.,  0.,  0.,  0.,  0.,  0.,  0.,\n",
       "        0.,  0.,  0.,  0.,  0.,  0.,  0.,  0.,  0.,  0.,  0.,  0.,  0.,\n",
       "        0.,  0.,  0.,  0.,  0.,  0.,  0.,  0.,  0.,  0.,  0.,  0.,  0.,\n",
       "        0.,  0.,  0.,  0.,  0.,  0.,  0.,  0.,  0.,  0.,  0.,  0.,  0.,\n",
       "        0.,  0.,  0.,  0.,  0.,  0.,  0.,  0.,  0.,  0.,  0.,  0.,  0.,\n",
       "        0.,  0.,  0.,  0.,  0.])"
      ]
     },
     "execution_count": 163,
     "metadata": {},
     "output_type": "execute_result"
    }
   ],
   "source": [
    "s, _, _, _ = env.reset(number_of_rows=num_rows, number_of_cols=num_cols)\n",
    "s = tf_rl_utils.prepro(s)\n",
    "prior_state = np.zeros_like(s)\n",
    "del_state = s - prior_state \n",
    "del_state"
   ]
  },
  {
   "cell_type": "code",
   "execution_count": 9,
   "metadata": {
    "collapsed": false
   },
   "outputs": [
    {
     "data": {
      "text/plain": [
       "96"
      ]
     },
     "execution_count": 9,
     "metadata": {},
     "output_type": "execute_result"
    }
   ],
   "source": [
    "[0,0,1,0], [.3,.01,.5,.19]\n",
    "1, .5"
   ]
  },
  {
   "cell_type": "code",
   "execution_count": 66,
   "metadata": {
    "collapsed": false
   },
   "outputs": [
    {
     "data": {
      "text/plain": [
       "<tf.Tensor 'Const_28:0' shape=(10,) dtype=int64>"
      ]
     },
     "execution_count": 66,
     "metadata": {},
     "output_type": "execute_result"
    }
   ],
   "source": [
    "# sess.run(labels)\n",
    "sess.run(actions)\n",
    "actions"
   ]
  },
  {
   "cell_type": "code",
   "execution_count": 105,
   "metadata": {
    "collapsed": false
   },
   "outputs": [],
   "source": [
    "# tf.convert_to_tensor()\n",
    "actions = []\n",
    "labels = []\n",
    "for i in range(10):\n",
    "    action = np.random.randint(0,4)\n",
    "#     action = 1\n",
    "    actions.append(action)\n",
    "    label = [0,0,0,0]\n",
    "    label[action] = 1\n",
    "    labels.append(label)\n",
    "actions = np.array(actions, dtype=np.int32)\n",
    "labels = np.array(labels, dtype=np.int32)\n",
    "# actions = tf.convert_to_tensor(actions)\n",
    "# labels = tf.convert_to_tensor(labels)\n",
    "# picked_actions = tf.gather(labels, actions, axis=1)\n",
    "# sess.run(picked_actions)"
   ]
  },
  {
   "cell_type": "code",
   "execution_count": 104,
   "metadata": {
    "collapsed": false
   },
   "outputs": [
    {
     "data": {
      "text/plain": [
       "array([1, 0, 0, 0, 0, 1, 0, 0, 0, 0, 0, 1, 0, 0, 1, 0, 0, 1, 0, 0, 0, 1, 0,\n",
       "       0, 0, 0, 1, 0, 0, 0, 0, 1, 0, 0, 0, 1, 0, 0, 1, 0], dtype=int32)"
      ]
     },
     "execution_count": 104,
     "metadata": {},
     "output_type": "execute_result"
    }
   ],
   "source": [
    "sess.run(tf.reshape(labels, [-1]))"
   ]
  },
  {
   "cell_type": "code",
   "execution_count": 108,
   "metadata": {
    "collapsed": false
   },
   "outputs": [
    {
     "data": {
      "text/plain": [
       "array([ 1.,  1.,  1.,  1.,  1.,  1.,  1.,  1.,  1.,  1.], dtype=float32)"
      ]
     },
     "execution_count": 108,
     "metadata": {},
     "output_type": "execute_result"
    }
   ],
   "source": [
    "x = tf.placeholder(tf.float32, shape=[10, num_cols*num_rows])\n",
    "y_ = tf.placeholder(tf.float32, shape=[10, 4])\n",
    "\n",
    "indices = tf.range(0, tf.shape(y_)[0]) * tf.shape(y_)[1] + actions\n",
    "picked_actions = tf.gather(tf.reshape(y_, [-1]), indices)\n",
    "prob_for_picked_actions = tf.gather(tf.reshape(y_, [-1]), indices)\n",
    "\n",
    "sess.run(prob_for_picked_actions,feed_dict={y_:labels})"
   ]
  },
  {
   "cell_type": "code",
   "execution_count": 107,
   "metadata": {
    "collapsed": false
   },
   "outputs": [
    {
     "data": {
      "text/plain": [
       "<module 'tensorflow' from '/Users/crawles/anaconda/lib/python2.7/site-packages/tensorflow/__init__.pyc'>"
      ]
     },
     "execution_count": 107,
     "metadata": {},
     "output_type": "execute_result"
    }
   ],
   "source": [
    "tf"
   ]
  },
  {
   "cell_type": "markdown",
   "metadata": {},
   "source": [
    "## Appendix\n",
    "### View loss"
   ]
  },
  {
   "cell_type": "code",
   "execution_count": 2,
   "metadata": {
    "collapsed": false
   },
   "outputs": [
    {
     "data": {
      "text/plain": [
       "<matplotlib.text.Text at 0x11593d410>"
      ]
     },
     "execution_count": 2,
     "metadata": {},
     "output_type": "execute_result"
    },
    {
     "data": {
      "image/png": "[encoded data removed]",
      "text/plain": [
       "<matplotlib.figure.Figure at 0x114f1d510>"
      ]
     },
     "metadata": {},
     "output_type": "display_data"
    }
   ],
   "source": [
    "%matplotlib inline\n",
    "from matplotlib import pyplot as plt\n",
    "import numpy as np\n",
    "\n",
    "probs = np.arange(0.01,1,0.1)\n",
    "reward = 1\n",
    "loss = -reward*(np.log(probs))\n",
    "plt.plot(probs, loss)\n",
    "plt.ylabel('loss')\n",
    "plt.xlabel('prob')"
   ]
  }
 ],
 "metadata": {
  "anaconda-cloud": {},
  "kernelspec": {
   "display_name": "Python [default]",
   "language": "python",
   "name": "python2"
  },
  "language_info": {
   "codemirror_mode": {
    "name": "ipython",
    "version": 2
   },
   "file_extension": ".py",
   "mimetype": "text/x-python",
   "name": "python",
   "nbconvert_exporter": "python",
   "pygments_lexer": "ipython2",
   "version": "2.7.12"
  },
  "toc": {
   "nav_menu": {
    "height": "12px",
    "width": "252px"
   },
   "navigate_menu": true,
   "number_sections": true,
   "sideBar": true,
   "threshold": 4,
   "toc_cell": false,
   "toc_section_display": "block",
   "toc_window_display": false
  }
 },
 "nbformat": 4,
 "nbformat_minor": 1
}
