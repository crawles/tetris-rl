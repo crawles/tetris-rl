{
 "cells": [
  {
   "cell_type": "code",
   "execution_count": 1,
   "metadata": {
    "collapsed": true
   },
   "outputs": [],
   "source": [
    "%matplotlib inline\n",
    "from IPython.display import clear_output\n",
    "from matplotlib import pyplot as plt\n",
    "import pandas as pd"
   ]
  },
  {
   "cell_type": "markdown",
   "metadata": {},
   "source": [
    "## Build loss function"
   ]
  },
  {
   "cell_type": "code",
   "execution_count": 123,
   "metadata": {
    "collapsed": true
   },
   "outputs": [],
   "source": [
    "def weight_variable(shape):\n",
    "    initial = tf.truncated_normal(shape, stddev=0.1)\n",
    "    return tf.Variable(initial)\n",
    "\n",
    "def bias_variable(shape):\n",
    "    initial = tf.constant(0.1, shape=shape)\n",
    "    return tf.Variable(initial)\n",
    "\n",
    "def chose_from_action_dist(a_dist):\n",
    "    \"\"\"From the NN output, draw an action from the outputted action distribution\"\"\"\n",
    "    picked_action_prob = np.random.choice(a_dist[0], p=a_dist[0])\n",
    "    return np.argmax(a_dist == picked_action_prob)"
   ]
  },
  {
   "cell_type": "code",
   "execution_count": 127,
   "metadata": {
    "collapsed": false
   },
   "outputs": [
    {
     "data": {
      "image/png": "[encoded data removed]",
      "text/plain": [
       "<matplotlib.figure.Figure at 0x11cb2ffd0>"
      ]
     },
     "metadata": {},
     "output_type": "display_data"
    },
    {
     "ename": "KeyboardInterrupt",
     "evalue": "",
     "output_type": "error",
     "traceback": [
      "\u001b[0;31m---------------------------------------------------------------------------\u001b[0m",
      "\u001b[0;31mKeyboardInterrupt\u001b[0m                         Traceback (most recent call last)",
      "\u001b[0;32m<ipython-input-127-3ed2b271b459>\u001b[0m in \u001b[0;36m<module>\u001b[0;34m()\u001b[0m\n\u001b[1;32m     78\u001b[0m         \u001b[0;31m# take action\u001b[0m\u001b[0;34m\u001b[0m\u001b[0;34m\u001b[0m\u001b[0m\n\u001b[1;32m     79\u001b[0m         \u001b[0mprior_state\u001b[0m \u001b[0;34m=\u001b[0m \u001b[0ms\u001b[0m\u001b[0;34m\u001b[0m\u001b[0m\n\u001b[0;32m---> 80\u001b[0;31m         \u001b[0ms_2D\u001b[0m\u001b[0;34m,\u001b[0m \u001b[0mr\u001b[0m\u001b[0;34m,\u001b[0m \u001b[0mdone\u001b[0m\u001b[0;34m,\u001b[0m \u001b[0m_\u001b[0m \u001b[0;34m=\u001b[0m \u001b[0menv\u001b[0m\u001b[0;34m.\u001b[0m\u001b[0mstep\u001b[0m\u001b[0;34m(\u001b[0m\u001b[0mACTIONS\u001b[0m\u001b[0;34m[\u001b[0m\u001b[0maction\u001b[0m\u001b[0;34m]\u001b[0m\u001b[0;34m)\u001b[0m\u001b[0;34m\u001b[0m\u001b[0m\n\u001b[0m\u001b[1;32m     81\u001b[0m         \u001b[0ms\u001b[0m \u001b[0;34m=\u001b[0m \u001b[0mtf_rl_utils\u001b[0m\u001b[0;34m.\u001b[0m\u001b[0mprepro\u001b[0m\u001b[0;34m(\u001b[0m\u001b[0ms_2D\u001b[0m\u001b[0;34m)\u001b[0m\u001b[0;34m\u001b[0m\u001b[0m\n\u001b[1;32m     82\u001b[0m \u001b[0;34m\u001b[0m\u001b[0m\n",
      "\u001b[0;32m/Users/crawles/Desktop/tetris-rl/tetris_api.pyc\u001b[0m in \u001b[0;36mstep\u001b[0;34m(self, action)\u001b[0m\n\u001b[1;32m     28\u001b[0m \u001b[0;34m\u001b[0m\u001b[0m\n\u001b[1;32m     29\u001b[0m     \u001b[0;32mdef\u001b[0m \u001b[0mstep\u001b[0m\u001b[0;34m(\u001b[0m\u001b[0mself\u001b[0m\u001b[0;34m,\u001b[0m \u001b[0maction\u001b[0m\u001b[0;34m)\u001b[0m\u001b[0;34m:\u001b[0m\u001b[0;34m\u001b[0m\u001b[0m\n\u001b[0;32m---> 30\u001b[0;31m         \u001b[0mo\u001b[0m\u001b[0;34m,\u001b[0m \u001b[0md\u001b[0m\u001b[0;34m,\u001b[0m \u001b[0mcum_score\u001b[0m\u001b[0;34m,\u001b[0m \u001b[0mreward\u001b[0m \u001b[0;34m=\u001b[0m \u001b[0mself\u001b[0m\u001b[0;34m.\u001b[0m\u001b[0m_process_reward\u001b[0m\u001b[0;34m(\u001b[0m\u001b[0mself\u001b[0m\u001b[0;34m.\u001b[0m\u001b[0mgame\u001b[0m\u001b[0;34m.\u001b[0m\u001b[0mstep_forward\u001b[0m\u001b[0;34m(\u001b[0m\u001b[0maction\u001b[0m\u001b[0;34m)\u001b[0m\u001b[0;34m)\u001b[0m\u001b[0;34m\u001b[0m\u001b[0m\n\u001b[0m\u001b[1;32m     31\u001b[0m         \u001b[0;32mif\u001b[0m \u001b[0md\u001b[0m\u001b[0;34m:\u001b[0m\u001b[0;34m\u001b[0m\u001b[0m\n\u001b[1;32m     32\u001b[0m             \u001b[0mreward\u001b[0m \u001b[0;34m=\u001b[0m \u001b[0;34m-\u001b[0m\u001b[0;36m1\u001b[0m\u001b[0;34m\u001b[0m\u001b[0m\n",
      "\u001b[0;31mKeyboardInterrupt\u001b[0m: "
     ]
    }
   ],
   "source": [
    "import json\n",
    "import os\n",
    "import sys\n",
    "import time\n",
    "\n",
    "import numpy as np\n",
    "import tensorflow as tf\n",
    "\n",
    "import tetris_api\n",
    "import tf_rl_utils\n",
    "\n",
    "from collections import OrderedDict\n",
    "\n",
    "ACTIONS = {3: 'up', 2: 'right', 1: 'left', 0: 'down'}\n",
    "\n",
    "if sys.version_info.major == 2:\n",
    "    range = xrange\n",
    "\n",
    "# tetris\n",
    "num_cols = 10\n",
    "num_rows = 20\n",
    "\n",
    "# learning params\n",
    "gamma = 0.9\n",
    "learning_rate = 1e-2\n",
    "max_ep = 99999 # how many steps to take\n",
    "num_hidden = 25\n",
    "update_frequency = 25 # after how many games to update model\n",
    "\n",
    "# tf stuff init \n",
    "tf.reset_default_graph()  # clear the Tensorflow graph.\n",
    "sess = tf.InteractiveSession()\n",
    "\n",
    "# build nodes\n",
    "x = tf.placeholder(tf.float32, shape=[None, num_cols*num_rows])\n",
    "actions = tf.placeholder(tf.int32, shape=[None])\n",
    "rewards = tf.placeholder(tf.float32, shape=[None])\n",
    "\n",
    "# 1st layer \n",
    "W1 = weight_variable([num_cols*num_rows, num_hidden])\n",
    "b1 = bias_variable([num_hidden])\n",
    "h1 = tf.nn.relu(tf.matmul(x, W1) + b1)\n",
    " \n",
    "# output \n",
    "W2 = weight_variable([num_hidden, 4])\n",
    "b2 = bias_variable([4])\n",
    "y = tf.matmul(h1,W2) + b2\n",
    "output = tf.nn.softmax(y)\n",
    "\n",
    "# get prob for chosen action\n",
    "# first need to figure out indices of all of the chose actions\n",
    "# from the flattened array\n",
    "action_indices = (tf.range(0, tf.shape(y)[0]) * tf.shape(y)[1]) + actions\n",
    "prob_for_picked_actions = tf.gather(tf.reshape(output, [-1]), action_indices)\n",
    "\n",
    "# loss function\n",
    "cross_entropy = -tf.reduce_mean(tf.log(prob_for_picked_actions) * rewards)\n",
    "train_step = tf.train.AdamOptimizer(learning_rate).minimize(cross_entropy)\n",
    "\n",
    "# initialize variables\n",
    "sess.run(tf.global_variables_initializer())\n",
    "\n",
    "env = tetris_api.PyTetrisEnv()\n",
    "all_ep_history = []\n",
    "game_num = 0\n",
    "games_rewards = []\n",
    "batch_start_time = time.time()\n",
    "batch_num_moves = 0\n",
    "while True:\n",
    "    s_2D, _, _, _ = env.reset(number_of_rows=num_rows, number_of_cols=num_cols)\n",
    "    s = tf_rl_utils.prepro(s_2D)\n",
    "    prior_state = np.zeros_like(s)\n",
    "    ep_history = []\n",
    "    for j in range(max_ep):\n",
    "        batch_num_moves += 1\n",
    "        # determine action\n",
    "        del_state = s - prior_state \n",
    "        action_distribution = sess.run(output,\n",
    "                                       feed_dict={x: [del_state]})\n",
    "        action = chose_from_action_dist(action_distribution)\n",
    "        \n",
    "        # take action\n",
    "        prior_state = s\n",
    "        s_2D, r, done, _ = env.step(ACTIONS[action]) \n",
    "        s = tf_rl_utils.prepro(s_2D)\n",
    "        \n",
    "        ep_history.append(np.array([del_state, action, r]))\n",
    "        if done:\n",
    "            ep_history = np.array(ep_history)\n",
    "            r = tf_rl_utils.discount_rewards(ep_history[:, 2], gamma=gamma)\n",
    "            ep_history[:, 2] = r\n",
    "            all_ep_history.append(ep_history)\n",
    "            games_rewards.append(np.sum(r))\n",
    "            ep_history = []\n",
    "\n",
    "            its_time_to_update_weights = ((game_num % update_frequency) == 0 and (game_num != 0))\n",
    "            if its_time_to_update_weights:\n",
    "                print \"n moves: {}, to play batch: {}\".format(batch_num_moves, time.time() - batch_start_time)\n",
    "                print game_num, '{:2.2f}'.format(np.mean(games_rewards[game_num-10:game_num]))\n",
    "                batch_start_time = time.time()\n",
    "                weight_update_start = time.time()\n",
    "                all_ep_history = np.vstack(all_ep_history)\n",
    "                feed_dict = {rewards: all_ep_history[:, 2],\n",
    "                             actions: all_ep_history[:, 1],\n",
    "                             x: np.vstack(all_ep_history[:, 0])}\n",
    "                sess.run(train_step,\n",
    "                         feed_dict=feed_dict)\n",
    "                print \"to update weight: \", time.time() - weight_update_start\n",
    "                \n",
    "                # book keeping\n",
    "                all_ep_history = []\n",
    "                batch_num_moves = 0\n",
    "                \n",
    "                \n",
    "                its_time_to_plot = ((game_num % 500) == 0 and (game_num != 0))\n",
    "                if its_time_to_plot:\n",
    "                    clear_output()\n",
    "                    game_rewards_s = pd.Series(games_rewards)\n",
    "                    rolling_game_rewards = game_rewards_s.rolling(50).mean().fillna(game_rewards_s.mean())\n",
    "                    plt.plot(rolling_game_rewards)\n",
    "                    plt.show()\n",
    "            break\n",
    "    game_num += 1\n",
    "# TODO: fix normalize gradients\n",
    "# maybe scale input?"
   ]
  },
  {
   "cell_type": "code",
   "execution_count": 5,
   "metadata": {
    "collapsed": false
   },
   "outputs": [
    {
     "data": {
      "image/png": "[encoded data removed]",
      "text/plain": [
       "<matplotlib.figure.Figure at 0x118504090>"
      ]
     },
     "metadata": {},
     "output_type": "display_data"
    }
   ],
   "source": [
    "fig,(ax0,ax1,ax2) = plt.subplots(3,1, figsize=(16,16))\n",
    "ax0.hist(action_history)\n",
    "\n",
    "# game rewards\n",
    "# ax1.plot(game_rewards)\n",
    "game_rewards_s = pd.Series(game_rewards)\n",
    "rolling_game_rewards = game_rewards_s.rolling(50).mean().fillna(game_rewards_s.mean())\n",
    "ax1.plot(rolling_game_rewards)\n",
    "\n",
    "# weights\n",
    "_W = sess.run(W1)\n",
    "c = ax2.imshow(_W.T)\n",
    "# c.colorbar()"
   ]
  },
  {
   "cell_type": "markdown",
   "metadata": {},
   "source": [
    "play games\n",
    "\n",
    "features:\n",
    "* viz\n",
    "    * include score board\n",
    "    * |___| \n",
    "    \n",
    "* return\n",
    "    * #games\n",
    "    * #games/second\n",
    "    * longest game\n",
    "    * shortest game\n",
    "    * best game\n",
    "    * worst game\n",
    "    * num down, up, left, right\n",
    "    * min reward, max reward\n",
    "    * game rewards\n",
    "    \n",
    "* args\n",
    "    * player {random, machine, human}\n",
    "    * game size\n",
    "    * play games\n",
    "\n",
    "\n",
    "\n",
    "\n",
    "* view game \n",
    "* input:\n",
    "    * game, rewards\n",
    "* output viz"
   ]
  },
  {
   "cell_type": "code",
   "execution_count": 7,
   "metadata": {
    "collapsed": true
   },
   "outputs": [],
   "source": []
  },
  {
   "cell_type": "code",
   "execution_count": 51,
   "metadata": {
    "collapsed": false
   },
   "outputs": [
    {
     "data": {
      "text/plain": [
       "1"
      ]
     },
     "execution_count": 51,
     "metadata": {},
     "output_type": "execute_result"
    }
   ],
   "source": [
    "def take_random_action(_):\n",
    "    return np.random.randint(0,4)\n",
    "\n",
    "class RL_Agent(object):\n",
    "    \n",
    "    def __init__(self, sess, output):\n",
    "        self.sess = sess\n",
    "        self.output = output\n",
    "        \n",
    "    def take_action(self, s):\n",
    "        a_dist = self.sess.run(self.output, feed_dict={x: [s]})\n",
    "        return chose_from_action_dist (a_dist)\n",
    "\n",
    "    \n",
    "def viz_game(game_states, game_rewards, frame_delay=.02):\n",
    "    \"\"\"For replaying games, helpful for debugging\n",
    "    and visualizing performance\"\"\"\n",
    "    num_moves = 0\n",
    "    score = 0\n",
    "    score_board = 'n: {}  score: {}'\n",
    "    for state, reward in zip(game_states, game_rewards):\n",
    "        clear_output(wait=True)\n",
    "        num_moves += 1\n",
    "        score += reward\n",
    "        print state \n",
    "        print score_board.format(num_moves, score)\n",
    "        time.sleep(.02) \n",
    "\n",
    "def play_games(num_games, board_size, player, viz=False):\n",
    "    \"\"\"We want to be able to watch our trained agent play. Or a random agent. Or a human.\n",
    "    Given a player, play num_games and return a bunch of stats about the games played. \n",
    "    \"\"\"\n",
    "    num_rows, num_cols = board_size\n",
    "    env = tetris_api.PyTetrisEnv()\n",
    "    \n",
    "    # book keeping\n",
    "    start_time = time.time()\n",
    "    action_count = {'up': 0, 'down': 0, 'left': 0, 'right': 0}\n",
    "    current_best_score = 0\n",
    "    n_moves = 0\n",
    "    games_rewards = []\n",
    "    games_n_moves = []\n",
    "    best_game_states = []\n",
    "    best_game_rewards = []\n",
    "    \n",
    "    \n",
    "    for game_id in range(num_games):\n",
    "        # start new game\n",
    "        s_2D, _, _, _ = env.reset(number_of_rows=num_rows, number_of_cols=num_cols)\n",
    "        s = tf_rl_utils.prepro(s_2D)\n",
    "        prior_state = np.zeros_like(s)\n",
    "        \n",
    "        # keep track of high-level game info \n",
    "        reward_sum = 0\n",
    "        game_n_moves = 0\n",
    "        game_start_time = time.time()\n",
    "        # keep track of move-level params, in case we want to viz\n",
    "        game_states = [env.game.print_board()]\n",
    "        game_rewards = [0]\n",
    "        \n",
    "        for move_num in range(max_ep):\n",
    "            # determine action\n",
    "            del_state = s - prior_state \n",
    "            action = player(del_state)\n",
    "\n",
    "            # take action\n",
    "            prior_state = s\n",
    "            s_2D, r, done, _ = env.step(ACTIONS[action]) \n",
    "            \n",
    "            # book keeping\n",
    "            action_nm = ACTIONS[action]\n",
    "            action_count[action_nm] = action_count[action_nm] + 1\n",
    "            game_n_moves += 1\n",
    "            reward_sum += r\n",
    "            s = tf_rl_utils.prepro(s_2D)\n",
    "            \n",
    "            # for viz purposes\n",
    "            game_states.append(env.game.print_board())\n",
    "            game_rewards.append(r)\n",
    "            \n",
    "            if done:\n",
    "                n_moves += game_n_moves\n",
    "                games_n_moves.append(game_n_moves)\n",
    "                games_rewards.append(reward_sum)\n",
    "                if reward_sum > current_best_score:\n",
    "                    best_game_states.append(game_states)\n",
    "                    best_game_rewards.append(game_rewards)\n",
    "                if viz:\n",
    "                    viz_game(game_states, game_rewards, frame_delay=.02)\n",
    "                break\n",
    "                \n",
    "    # organize results and return\n",
    "    total_time =  time.time() - start_time\n",
    "    game_rewards = np.array(game_rewards)\n",
    "    game_n_moves = np.array(game_n_moves)\n",
    "    game_summary_dict = OrderedDict([('total_time', total_time),\n",
    "                                     ('total_moves', n_moves),\n",
    "                                    \n",
    "                                     ('avg_moves_per_game', n_moves/float(num_games)),\n",
    "                                     ('avg_reward_per_game', np.sum(games_rewards)/float(num_games)),\n",
    "                                    \n",
    "                                     ('indiv_game_rewards', [games_rewards]),\n",
    "                                     ('indiv_game_n_moves', [games_n_moves]),\n",
    "                                    \n",
    "                                     ('max_moves', np.max(games_n_moves)),\n",
    "                                     ('min_moves', np.min(games_n_moves)),\n",
    "                                     ('best_game' , np.max(games_rewards)),\n",
    "                                     ('worst_game', np.min(games_rewards)),\n",
    "                                    \n",
    "                                     ('total_down', action_count['down']),\n",
    "                                     ('total_up', action_count['up']),\n",
    "                                     ('total_left', action_count['left']),\n",
    "                                     ('total_right', action_count['right']),\n",
    "                                    \n",
    "                                     ('best_game_states', [best_game_states]),\n",
    "                                     ('best_game_rewards', [best_game_rewards])\n",
    "                                    ])\n",
    "    return pd.DataFrame(game_summary_dict, index = ['value']).T"
   ]
  },
  {
   "cell_type": "code",
   "execution_count": null,
   "metadata": {
    "collapsed": true
   },
   "outputs": [],
   "source": [
    "rl_agent = RL_Agent(sess, output)\n",
    "res = play_games(25, (num_rows, num_cols), take_random_action, viz=False)\n"
   ]
  },
  {
   "cell_type": "code",
   "execution_count": 120,
   "metadata": {
    "collapsed": false
   },
   "outputs": [
    {
     "name": "stdout",
     "output_type": "stream",
     "text": [
      "\n",
      "|1 1                 |\n",
      "|1 1                 |\n",
      "|1 1                 |\n",
      "|1 1                 |\n",
      "|  1 1               |\n",
      "|  1 1               |\n",
      "|1 1                 |\n",
      "|1 1                 |\n",
      "|  1 1         1 1   |\n",
      "|  1 1         1 1   |\n",
      "|1 1 1 1 1 1 1 1     |\n",
      "|1 1 1 1 1 1 1 1     |\n",
      "|  1 1     1 1       |\n",
      "|  1 1     1 1       |\n",
      "|    1 1 1 1         |\n",
      "|    1 1 1 1         |\n",
      "|      1 1 1 1   1 1 |\n",
      "|      1 1 1 1   1 1 |\n",
      "|1 1   1 1 1 1 1 1   |\n",
      "|1 1   1 1 1 1 1 1   |\n",
      "______________________\n",
      "n: 1124  score: 19.0\n"
     ]
    }
   ],
   "source": [
    "# watch best game\n",
    "r = res.loc['indiv_game_rewards']\n",
    "best_game_states = res.loc['best_game_states'][0][0]\n",
    "best_game_rewards = res.loc['best_game_rewards'][0][0]\n",
    "\n",
    "viz_game(best_game_states, best_game_rewards)"
   ]
  },
  {
   "cell_type": "code",
   "execution_count": 107,
   "metadata": {
    "collapsed": false
   },
   "outputs": [
    {
     "data": {
      "text/plain": [
       "<module 'tensorflow' from '/Users/crawles/anaconda/lib/python2.7/site-packages/tensorflow/__init__.pyc'>"
      ]
     },
     "execution_count": 107,
     "metadata": {},
     "output_type": "execute_result"
    }
   ],
   "source": []
  },
  {
   "cell_type": "markdown",
   "metadata": {},
   "source": [
    "## Appendix\n",
    "### View loss"
   ]
  },
  {
   "cell_type": "code",
   "execution_count": 2,
   "metadata": {
    "collapsed": false
   },
   "outputs": [
    {
     "data": {
      "text/plain": [
       "<matplotlib.text.Text at 0x11593d410>"
      ]
     },
     "execution_count": 2,
     "metadata": {},
     "output_type": "execute_result"
    },
    {
     "data": {
      "image/png": "[encoded data removed]",
      "text/plain": [
       "<matplotlib.figure.Figure at 0x114f1d510>"
      ]
     },
     "metadata": {},
     "output_type": "display_data"
    }
   ],
   "source": [
    "%matplotlib inline\n",
    "from matplotlib import pyplot as plt\n",
    "import numpy as np\n",
    "\n",
    "probs = np.arange(0.01,1,0.1)\n",
    "reward = 1\n",
    "loss = -reward*(np.log(probs))\n",
    "plt.plot(probs, loss)\n",
    "plt.ylabel('loss')\n",
    "plt.xlabel('prob')"
   ]
  }
 ],
 "metadata": {
  "anaconda-cloud": {},
  "kernelspec": {
   "display_name": "Python [default]",
   "language": "python",
   "name": "python2"
  },
  "language_info": {
   "codemirror_mode": {
    "name": "ipython",
    "version": 2
   },
   "file_extension": ".py",
   "mimetype": "text/x-python",
   "name": "python",
   "nbconvert_exporter": "python",
   "pygments_lexer": "ipython2",
   "version": "2.7.12"
  },
  "toc": {
   "nav_menu": {
    "height": "12px",
    "width": "252px"
   },
   "navigate_menu": true,
   "number_sections": true,
   "sideBar": true,
   "threshold": 4,
   "toc_cell": false,
   "toc_section_display": "block",
   "toc_window_display": false
  }
 },
 "nbformat": 4,
 "nbformat_minor": 1
}
