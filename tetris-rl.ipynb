{
 "cells": [
  {
   "cell_type": "code",
   "execution_count": 98,
   "metadata": {
    "collapsed": true
   },
   "outputs": [],
   "source": [
    "%matplotlib inline\n",
    "from matplotlib import pyplot as plt"
   ]
  },
  {
   "cell_type": "markdown",
   "metadata": {},
   "source": [
    "## Build loss function"
   ]
  },
  {
   "cell_type": "code",
   "execution_count": 109,
   "metadata": {
    "collapsed": false
   },
   "outputs": [
    {
     "name": "stdout",
     "output_type": "stream",
     "text": [
      "10 224.999784733\n"
     ]
    },
    {
     "name": "stderr",
     "output_type": "stream",
     "text": [
      "/Users/crawles/anaconda/lib/python2.7/site-packages/ipykernel/__main__.py:70: RuntimeWarning: invalid value encountered in less\n"
     ]
    },
    {
     "name": "stdout",
     "output_type": "stream",
     "text": [
      "20 15.0000055108\n",
      "30 -4.99999387002\n",
      "40 -4.99999387002\n",
      "50 -4.99999387002\n",
      "60 -4.99999387002\n",
      "70 -4.99999387002\n",
      "80 -4.99999387002\n",
      "90 -4.99999387002\n",
      "100 -4.99999387002\n",
      "110 -4.99999387002\n",
      "120 -4.99999387002\n",
      "130 -4.99999387002\n",
      "140 -4.99999387002\n",
      "150 -4.99999387002\n",
      "160 -4.99999387002\n",
      "170 -4.99999387002\n",
      "180 -4.99999387002\n",
      "190 -4.99999387002\n",
      "200 -4.99999387002\n",
      "210 -4.99999387002\n",
      "220 -4.99999387002\n",
      "230 -4.99999387002\n",
      "240 -4.99999387002\n",
      "250 -4.99999387002\n",
      "260 -4.99999387002\n",
      "270 -4.99999387002\n",
      "280 -4.99999387002\n",
      "290 -4.99999387002\n",
      "300 -4.99999387002\n",
      "310 -4.99999387002\n",
      "320 -4.99999387002\n",
      "330 -4.99999387002\n",
      "340 -4.99999387002\n",
      "350 -4.99999387002\n",
      "360 -4.99999387002\n",
      "370 -4.99999387002\n",
      "380 -4.99999387002\n",
      "390 -4.99999387002\n",
      "400 -4.99999387002\n",
      "410 -4.99999387002\n",
      "420 -4.99999387002\n",
      "430 -4.99999387002\n",
      "440 -4.99999387002\n",
      "450 -4.99999387002\n",
      "460 -4.99999387002\n",
      "470 -4.99999387002\n",
      "480 -4.99999387002\n",
      "490 -4.99999387002\n",
      "500 -4.99999387002\n"
     ]
    },
    {
     "ename": "KeyboardInterrupt",
     "evalue": "",
     "output_type": "error",
     "traceback": [
      "\u001b[0;31m---------------------------------------------------------------------------\u001b[0m",
      "\u001b[0;31mKeyboardInterrupt\u001b[0m                         Traceback (most recent call last)",
      "\u001b[0;32m<ipython-input-109-7fff64142c16>\u001b[0m in \u001b[0;36m<module>\u001b[0;34m()\u001b[0m\n\u001b[1;32m     69\u001b[0m         \u001b[0ma_dist\u001b[0m \u001b[0;34m=\u001b[0m \u001b[0msess\u001b[0m\u001b[0;34m.\u001b[0m\u001b[0mrun\u001b[0m\u001b[0;34m(\u001b[0m\u001b[0moutput\u001b[0m\u001b[0;34m,\u001b[0m \u001b[0mfeed_dict\u001b[0m\u001b[0;34m=\u001b[0m\u001b[0;34m{\u001b[0m\u001b[0mx\u001b[0m\u001b[0;34m:\u001b[0m \u001b[0;34m[\u001b[0m\u001b[0mdel_state\u001b[0m\u001b[0;34m]\u001b[0m\u001b[0;34m}\u001b[0m\u001b[0;34m)\u001b[0m\u001b[0;34m\u001b[0m\u001b[0m\n\u001b[1;32m     70\u001b[0m         \u001b[0mpicked_action_prob\u001b[0m \u001b[0;34m=\u001b[0m \u001b[0mnp\u001b[0m\u001b[0;34m.\u001b[0m\u001b[0mrandom\u001b[0m\u001b[0;34m.\u001b[0m\u001b[0mchoice\u001b[0m\u001b[0;34m(\u001b[0m\u001b[0ma_dist\u001b[0m\u001b[0;34m[\u001b[0m\u001b[0;36m0\u001b[0m\u001b[0;34m]\u001b[0m\u001b[0;34m,\u001b[0m \u001b[0mp\u001b[0m\u001b[0;34m=\u001b[0m\u001b[0ma_dist\u001b[0m\u001b[0;34m[\u001b[0m\u001b[0;36m0\u001b[0m\u001b[0;34m]\u001b[0m\u001b[0;34m)\u001b[0m\u001b[0;34m\u001b[0m\u001b[0m\n\u001b[0;32m---> 71\u001b[0;31m         \u001b[0maction\u001b[0m \u001b[0;34m=\u001b[0m \u001b[0mnp\u001b[0m\u001b[0;34m.\u001b[0m\u001b[0margmax\u001b[0m\u001b[0;34m(\u001b[0m\u001b[0ma_dist\u001b[0m \u001b[0;34m==\u001b[0m \u001b[0mpicked_action_prob\u001b[0m\u001b[0;34m)\u001b[0m\u001b[0;34m\u001b[0m\u001b[0m\n\u001b[0m\u001b[1;32m     72\u001b[0m         \u001b[0maction_history\u001b[0m\u001b[0;34m.\u001b[0m\u001b[0mappend\u001b[0m\u001b[0;34m(\u001b[0m\u001b[0maction\u001b[0m\u001b[0;34m)\u001b[0m\u001b[0;34m\u001b[0m\u001b[0m\n\u001b[1;32m     73\u001b[0m \u001b[0;34m\u001b[0m\u001b[0m\n",
      "\u001b[0;32m/Users/crawles/anaconda/lib/python2.7/site-packages/numpy/core/fromnumeric.pyc\u001b[0m in \u001b[0;36margmax\u001b[0;34m(a, axis, out)\u001b[0m\n\u001b[1;32m    908\u001b[0m \u001b[0;34m\u001b[0m\u001b[0m\n\u001b[1;32m    909\u001b[0m \u001b[0;34m\u001b[0m\u001b[0m\n\u001b[0;32m--> 910\u001b[0;31m \u001b[0;32mdef\u001b[0m \u001b[0margmax\u001b[0m\u001b[0;34m(\u001b[0m\u001b[0ma\u001b[0m\u001b[0;34m,\u001b[0m \u001b[0maxis\u001b[0m\u001b[0;34m=\u001b[0m\u001b[0mNone\u001b[0m\u001b[0;34m,\u001b[0m \u001b[0mout\u001b[0m\u001b[0;34m=\u001b[0m\u001b[0mNone\u001b[0m\u001b[0;34m)\u001b[0m\u001b[0;34m:\u001b[0m\u001b[0;34m\u001b[0m\u001b[0m\n\u001b[0m\u001b[1;32m    911\u001b[0m     \"\"\"\n\u001b[1;32m    912\u001b[0m     \u001b[0mReturns\u001b[0m \u001b[0mthe\u001b[0m \u001b[0mindices\u001b[0m \u001b[0mof\u001b[0m \u001b[0mthe\u001b[0m \u001b[0mmaximum\u001b[0m \u001b[0mvalues\u001b[0m \u001b[0malong\u001b[0m \u001b[0man\u001b[0m \u001b[0maxis\u001b[0m\u001b[0;34m.\u001b[0m\u001b[0;34m\u001b[0m\u001b[0m\n",
      "\u001b[0;31mKeyboardInterrupt\u001b[0m: "
     ]
    }
   ],
   "source": [
    "import json\n",
    "import os\n",
    "import sys\n",
    "\n",
    "import numpy as np\n",
    "import tensorflow as tf\n",
    "\n",
    "import tetris_api\n",
    "\n",
    "ACTIONS = {3: 'up', 2: 'right', 1: 'left', 0: 'down'}\n",
    "\n",
    "if sys.version_info.major == 2:\n",
    "    range = xrange\n",
    "\n",
    "num_cols = 4\n",
    "num_rows = 16\n",
    "gamma = 0.8\n",
    "num_hidden = 50\n",
    "learning_rate = 1e-2\n",
    "\n",
    "max_ep = 99999999 # how many steps to take\n",
    "update_frequency = 10 # after how many games to update model\n",
    "\n",
    "# create environment\n",
    "env = tetris_api.PyTetrisEnv()\n",
    "tf.reset_default_graph()  # clear the Tensorflow graph.\n",
    "\n",
    "# TODO build graph here\n",
    "# build nodes\n",
    "sess = tf.InteractiveSession()\n",
    "x = tf.placeholder(tf.float32, shape=[None, num_cols*num_rows])\n",
    "actions = tf.placeholder(tf.int32, shape=[None])\n",
    "rewards = tf.placeholder(tf.float32, shape=[None])\n",
    "\n",
    "# build weights and biases \n",
    "W = tf.truncated_normal([num_cols*num_rows,4], stddev=0.001)\n",
    "b = tf.Variable(tf.zeros([4]))\n",
    "\n",
    "# regression model\n",
    "y = tf.matmul(x,W) + b\n",
    "output = tf.nn.softmax(y)\n",
    "\n",
    "# get prob for chosen action\n",
    "action_indices = tf.range(0, tf.shape(y)[0]) * tf.shape(y)[1] + actions\n",
    "prob_for_picked_actions = tf.gather(tf.reshape(y, [-1]), action_indices)\n",
    "\n",
    "# loss function\n",
    "cross_entropy = -tf.reduce_mean(tf.log(prob_for_picked_actions) * rewards)\n",
    "train_step = tf.train.AdamOptimizer(learning_rate).minimize(cross_entropy)\n",
    "\n",
    "sess.run(tf.global_variables_initializer())\n",
    "# sess.run(output, feed_dict={x:x_in})\n",
    "\n",
    "\n",
    "import tf_rl_utils\n",
    "env = tetris_api.PyTetrisEnv()\n",
    "all_ep_history = []\n",
    "game_num = 0\n",
    "game_rewards = []\n",
    "action_history = []\n",
    "while True:\n",
    "    s, _, _, _ = env.reset(number_of_rows=num_rows, number_of_cols=num_cols)\n",
    "    s = tf_rl_utils.prepro(s)\n",
    "    prior_state = np.zeros_like(s)\n",
    "    ep_history = []\n",
    "    for j in range(max_ep):\n",
    "        # determine action\n",
    "        del_state = s - prior_state \n",
    "        a_dist = sess.run(output, feed_dict={x: [del_state]})\n",
    "        picked_action_prob = np.random.choice(a_dist[0], p=a_dist[0])\n",
    "        action = np.argmax(a_dist == picked_action_prob)\n",
    "        action_history.append(action)\n",
    "        \n",
    "        # take action\n",
    "        prior_state = s\n",
    "        s, r, done, _ = env.step(ACTIONS[action]) \n",
    "        s = tf_rl_utils.prepro(s)\n",
    "        \n",
    "        ep_history.append(np.array([del_state, action, r]))\n",
    "        if done:\n",
    "            # game_states = []\n",
    "            ep_history = np.array(ep_history)\n",
    "            ep_history[:, 2] = tf_rl_utils.discount_rewards(ep_history[:, 2], gamma=gamma)\n",
    "            all_ep_history.append(ep_history)\n",
    "            game_rewards.append(np.sum(ep_history[:, 2]))\n",
    "            ep_history = []\n",
    "\n",
    "            its_time_to_update_weights = ((game_num % update_frequency) == 0 and (game_num != 0))\n",
    "            if its_time_to_update_weights:\n",
    "                print game_num, np.mean(game_rewards[game_num-10:game_num])\n",
    "                all_ep_history = np.vstack(all_ep_history)\n",
    "                feed_dict = {rewards: all_ep_history[:, 2],\n",
    "                             actions: all_ep_history[:, 1],\n",
    "                             x: np.vstack(all_ep_history[:, 0])}\n",
    "                sess.run(train_step, feed_dict=feed_dict)\n",
    "                all_ep_history = []\n",
    "            break\n",
    "    game_num += 1"
   ]
  },
  {
   "cell_type": "code",
   "execution_count": 108,
   "metadata": {
    "collapsed": false
   },
   "outputs": [
    {
     "data": {
      "text/plain": [
       "(array([ 4337.,     0.,     0.,   411.,     0.,     0.,   413.,     0.,\n",
       "            0.,   438.]),\n",
       " array([ 0. ,  0.3,  0.6,  0.9,  1.2,  1.5,  1.8,  2.1,  2.4,  2.7,  3. ]),\n",
       " <a list of 10 Patch objects>)"
      ]
     },
     "execution_count": 108,
     "metadata": {},
     "output_type": "execute_result"
    },
    {
     "data": {
      "image/png": "[encoded data removed]",
      "text/plain": [
       "<matplotlib.figure.Figure at 0x117c79d50>"
      ]
     },
     "metadata": {},
     "output_type": "display_data"
    }
   ],
   "source": [
    "plt.hist(action_history)"
   ]
  },
  {
   "cell_type": "code",
   "execution_count": 81,
   "metadata": {
    "collapsed": false
   },
   "outputs": [
    {
     "name": "stdout",
     "output_type": "stream",
     "text": [
      "-1.0\n"
     ]
    }
   ],
   "source": [
    "s, _, _, _ = env.reset(number_of_rows=num_rows, number_of_cols=num_cols)\n",
    "s = tf_rl_utils.prepro(s)\n",
    "prior_state = np.zeros_like(s)\n",
    "ep_history = []\n",
    "for j in range(max_ep):\n",
    "    # determine action\n",
    "    del_state = s - prior_state \n",
    "    a_dist = sess.run(output, feed_dict={x: [del_state]})\n",
    "    picked_action_prob = np.random.choice(a_dist[0], p=a_dist[0])\n",
    "    action = np.argmax(a_dist == picked_action_prob)\n",
    "\n",
    "    # take action\n",
    "    prior_state = s\n",
    "    s, r, done, _ = env.step(ACTIONS[action]) \n",
    "    s = tf_rl_utils.prepro(s)\n",
    "\n",
    "    ep_history.append(np.array([del_state, action, r]))\n",
    "    if done:\n",
    "        break\n",
    "\n",
    "ep_history = np.array(ep_history)\n",
    "print ep_history[:,2].sum()"
   ]
  },
  {
   "cell_type": "code",
   "execution_count": 62,
   "metadata": {
    "collapsed": false
   },
   "outputs": [
    {
     "data": {
      "text/plain": [
       "array([0.0, 0.0, 0.0, 0.0, 0.0, 0.0, 0.0, 0.0, 0.0, 0.0, 0.0, 0.0, 0.0,\n",
       "       0.0, 0.0, 0.0, 0.0, 0.0, 0.0, 0.0, 0.0, 0.0, 0.0, 0.0, 0.0, 0.0,\n",
       "       0.0, 0.0, 0.0, 0.0, 0.0, 0.0, 0.0, 0.0, 0.0, 0.0, 0.0, 0.0, 0.0,\n",
       "       0.0, 0.0, 0.0, 0.0, 0.0, 0.0, 0.0, 0.0, 0.0, 0.0, 0.0, 0.0, 0.0,\n",
       "       0.0, 0.0, 0.0, 0.0, 0.0, 0.0, 0.0, 0.0, 0.0, 0.0, 0.0, 0.0, 0.0,\n",
       "       0.0, 0.0, 0.0, 0.0, 0.0, 0.0, 0.0, 0.0, 0.0, 0.0, 0.0, 0.0, 0.0,\n",
       "       0.0, 0.0, 0.0, 0.0, 0.0, 0.0, 0.0, 0.0, 0.0, 0.0, 0.0, 0.0, 0.0,\n",
       "       0.0, 0.0, 0.0, 0.0, 0.0, 0.0, 0.0, 20.0, 0.0, 0.0, 0.0, 0.0, 0.0,\n",
       "       0.0, 0.0, 0.0, 0.0, 0.0, 0.0, 0.0, 0.0, 0.0, 0.0, 0.0, 0.0, 0.0,\n",
       "       0.0, 0.0, 0.0, 0.0, 0.0, 0.0, 0.0, 0.0, 0.0, 0.0, 0.0, 0.0, 0.0,\n",
       "       0.0, 0.0, 0.0, 0.0, 0.0, 0.0, 0.0, 0.0, 0.0, 0.0, 0.0, 0.0, 0.0,\n",
       "       0.0, 0.0, 0.0, 0.0, 0.0, 0.0, 0.0, 0.0, 0.0, 0.0, 0.0, 0.0, 0.0,\n",
       "       0.0, 0.0, 0.0, 0.0, 0.0, 0.0, 0.0, 0.0, 0.0, 0.0, 0.0, 0.0, 0.0,\n",
       "       0.0, 0.0, 0.0, 0.0, 0.0, 0.0, 0.0, 0.0, 0.0, 0.0, 0.0, 0.0, 0.0,\n",
       "       0.0, 0.0, 0.0, 0.0, 0.0, 0.0, 0.0, 0.0, 0.0, 0.0, 0.0, 0.0, 0.0,\n",
       "       0.0, 0.0, 0.0, 0.0, 0.0, 0.0, 0.0, 0.0, 0.0, 0.0, 0.0, 0.0, 0.0,\n",
       "       0.0, 0.0, 0.0, 0.0, 0.0, 0.0, 0.0, 0.0, 0.0, 0.0, 0.0, 0.0, 0.0,\n",
       "       0.0, 0.0, 0.0, 0.0, 0.0, 0.0, 0.0, 0.0, 0.0, 0.0, 0.0, 0.0, 0.0,\n",
       "       0.0, 0.0, 0.0, 0.0, 0.0, 0.0, 0.0, 0.0, 0.0, 0.0, 0.0, 0.0, 0.0,\n",
       "       0.0, 0.0, 0.0, 0.0, 0.0, 0.0, 0.0, 0.0, 0.0, 0.0, 0.0, 0.0, 0.0,\n",
       "       0.0, 0.0, 0.0, 0.0, 0.0, 0.0, 0.0, 0.0, 0.0, 0.0, 0.0, 0.0, 0.0,\n",
       "       0.0, 0.0, 0.0, 0.0, 0.0, 0.0, 0.0, 0.0, 0.0, 0.0, 0.0, 0.0, 0.0,\n",
       "       0.0, 0.0, 0.0, 0.0, 0.0, 0.0, 0.0, 0.0, -1], dtype=object)"
      ]
     },
     "execution_count": 62,
     "metadata": {},
     "output_type": "execute_result"
    }
   ],
   "source": []
  },
  {
   "cell_type": "code",
   "execution_count": 55,
   "metadata": {
    "collapsed": false
   },
   "outputs": [],
   "source": [
    "\n",
    "s, r, done, _ = env.step(ACTIONS[0]) \n",
    "import IPython.terminal.ipapp"
   ]
  },
  {
   "cell_type": "code",
   "execution_count": 205,
   "metadata": {
    "collapsed": false
   },
   "outputs": [
    {
     "data": {
      "text/plain": [
       "(8228, 96)"
      ]
     },
     "execution_count": 205,
     "metadata": {},
     "output_type": "execute_result"
    }
   ],
   "source": [
    "all_ep_history[:, 0].shape\n",
    "np.vstack(all_ep_history[:, 0]).shape"
   ]
  },
  {
   "cell_type": "code",
   "execution_count": 202,
   "metadata": {
    "collapsed": false
   },
   "outputs": [
    {
     "data": {
      "text/plain": [
       "(8228, 3)"
      ]
     },
     "execution_count": 202,
     "metadata": {},
     "output_type": "execute_result"
    }
   ],
   "source": [
    "all_ep_history = np.vstack(all_ep_history)\n",
    "all_ep_history.shape"
   ]
  },
  {
   "cell_type": "code",
   "execution_count": 163,
   "metadata": {
    "collapsed": false
   },
   "outputs": [
    {
     "data": {
      "text/plain": [
       "array([ 0.,  0.,  1.,  0.,  0.,  0.,  0.,  1.,  1.,  1.,  0.,  0.,  0.,\n",
       "        0.,  0.,  0.,  0.,  0.,  0.,  0.,  0.,  0.,  0.,  0.,  0.,  0.,\n",
       "        0.,  0.,  0.,  0.,  0.,  0.,  0.,  0.,  0.,  0.,  0.,  0.,  0.,\n",
       "        0.,  0.,  0.,  0.,  0.,  0.,  0.,  0.,  0.,  0.,  0.,  0.,  0.,\n",
       "        0.,  0.,  0.,  0.,  0.,  0.,  0.,  0.,  0.,  0.,  0.,  0.,  0.,\n",
       "        0.,  0.,  0.,  0.,  0.,  0.,  0.,  0.,  0.,  0.,  0.,  0.,  0.,\n",
       "        0.,  0.,  0.,  0.,  0.,  0.,  0.,  0.,  0.,  0.,  0.,  0.,  0.,\n",
       "        0.,  0.,  0.,  0.,  0.])"
      ]
     },
     "execution_count": 163,
     "metadata": {},
     "output_type": "execute_result"
    }
   ],
   "source": [
    "s, _, _, _ = env.reset(number_of_rows=num_rows, number_of_cols=num_cols)\n",
    "s = tf_rl_utils.prepro(s)\n",
    "prior_state = np.zeros_like(s)\n",
    "del_state = s - prior_state \n",
    "del_state"
   ]
  },
  {
   "cell_type": "code",
   "execution_count": 9,
   "metadata": {
    "collapsed": false
   },
   "outputs": [
    {
     "data": {
      "text/plain": [
       "96"
      ]
     },
     "execution_count": 9,
     "metadata": {},
     "output_type": "execute_result"
    }
   ],
   "source": [
    "[0,0,1,0], [.3,.01,.5,.19]\n",
    "1, .5"
   ]
  },
  {
   "cell_type": "code",
   "execution_count": 66,
   "metadata": {
    "collapsed": false
   },
   "outputs": [
    {
     "data": {
      "text/plain": [
       "<tf.Tensor 'Const_28:0' shape=(10,) dtype=int64>"
      ]
     },
     "execution_count": 66,
     "metadata": {},
     "output_type": "execute_result"
    }
   ],
   "source": [
    "# sess.run(labels)\n",
    "sess.run(actions)\n",
    "actions"
   ]
  },
  {
   "cell_type": "code",
   "execution_count": 105,
   "metadata": {
    "collapsed": false
   },
   "outputs": [],
   "source": [
    "# tf.convert_to_tensor()\n",
    "actions = []\n",
    "labels = []\n",
    "for i in range(10):\n",
    "    action = np.random.randint(0,4)\n",
    "#     action = 1\n",
    "    actions.append(action)\n",
    "    label = [0,0,0,0]\n",
    "    label[action] = 1\n",
    "    labels.append(label)\n",
    "actions = np.array(actions, dtype=np.int32)\n",
    "labels = np.array(labels, dtype=np.int32)\n",
    "# actions = tf.convert_to_tensor(actions)\n",
    "# labels = tf.convert_to_tensor(labels)\n",
    "# picked_actions = tf.gather(labels, actions, axis=1)\n",
    "# sess.run(picked_actions)"
   ]
  },
  {
   "cell_type": "code",
   "execution_count": 104,
   "metadata": {
    "collapsed": false
   },
   "outputs": [
    {
     "data": {
      "text/plain": [
       "array([1, 0, 0, 0, 0, 1, 0, 0, 0, 0, 0, 1, 0, 0, 1, 0, 0, 1, 0, 0, 0, 1, 0,\n",
       "       0, 0, 0, 1, 0, 0, 0, 0, 1, 0, 0, 0, 1, 0, 0, 1, 0], dtype=int32)"
      ]
     },
     "execution_count": 104,
     "metadata": {},
     "output_type": "execute_result"
    }
   ],
   "source": [
    "sess.run(tf.reshape(labels, [-1]))"
   ]
  },
  {
   "cell_type": "code",
   "execution_count": 108,
   "metadata": {
    "collapsed": false
   },
   "outputs": [
    {
     "data": {
      "text/plain": [
       "array([ 1.,  1.,  1.,  1.,  1.,  1.,  1.,  1.,  1.,  1.], dtype=float32)"
      ]
     },
     "execution_count": 108,
     "metadata": {},
     "output_type": "execute_result"
    }
   ],
   "source": [
    "x = tf.placeholder(tf.float32, shape=[10, num_cols*num_rows])\n",
    "y_ = tf.placeholder(tf.float32, shape=[10, 4])\n",
    "\n",
    "indices = tf.range(0, tf.shape(y_)[0]) * tf.shape(y_)[1] + actions\n",
    "picked_actions = tf.gather(tf.reshape(y_, [-1]), indices)\n",
    "prob_for_picked_actions = tf.gather(tf.reshape(y_, [-1]), indices)\n",
    "\n",
    "sess.run(prob_for_picked_actions,feed_dict={y_:labels})"
   ]
  },
  {
   "cell_type": "code",
   "execution_count": 107,
   "metadata": {
    "collapsed": false
   },
   "outputs": [
    {
     "data": {
      "text/plain": [
       "<module 'tensorflow' from '/Users/crawles/anaconda/lib/python2.7/site-packages/tensorflow/__init__.pyc'>"
      ]
     },
     "execution_count": 107,
     "metadata": {},
     "output_type": "execute_result"
    }
   ],
   "source": [
    "tf"
   ]
  },
  {
   "cell_type": "markdown",
   "metadata": {},
   "source": [
    "## Appendix\n",
    "### View loss"
   ]
  },
  {
   "cell_type": "code",
   "execution_count": 2,
   "metadata": {
    "collapsed": false
   },
   "outputs": [
    {
     "data": {
      "text/plain": [
       "<matplotlib.text.Text at 0x11593d410>"
      ]
     },
     "execution_count": 2,
     "metadata": {},
     "output_type": "execute_result"
    },
    {
     "data": {
      "image/png": "[encoded data removed]",
      "text/plain": [
       "<matplotlib.figure.Figure at 0x114f1d510>"
      ]
     },
     "metadata": {},
     "output_type": "display_data"
    }
   ],
   "source": [
    "%matplotlib inline\n",
    "from matplotlib import pyplot as plt\n",
    "import numpy as np\n",
    "\n",
    "probs = np.arange(0.01,1,0.1)\n",
    "reward = 1\n",
    "loss = -reward*(np.log(probs))\n",
    "plt.plot(probs, loss)\n",
    "plt.ylabel('loss')\n",
    "plt.xlabel('prob')"
   ]
  }
 ],
 "metadata": {
  "anaconda-cloud": {},
  "kernelspec": {
   "display_name": "Python [default]",
   "language": "python",
   "name": "python2"
  },
  "language_info": {
   "codemirror_mode": {
    "name": "ipython",
    "version": 2
   },
   "file_extension": ".py",
   "mimetype": "text/x-python",
   "name": "python",
   "nbconvert_exporter": "python",
   "pygments_lexer": "ipython2",
   "version": "2.7.12"
  },
  "toc": {
   "nav_menu": {
    "height": "12px",
    "width": "252px"
   },
   "navigate_menu": true,
   "number_sections": true,
   "sideBar": true,
   "threshold": 4,
   "toc_cell": false,
   "toc_section_display": "block",
   "toc_window_display": false
  }
 },
 "nbformat": 4,
 "nbformat_minor": 1
}
